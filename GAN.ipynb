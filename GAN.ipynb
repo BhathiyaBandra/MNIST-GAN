{
  "nbformat": 4,
  "nbformat_minor": 0,
  "metadata": {
    "colab": {
      "provenance": [],
      "gpuType": "T4"
    },
    "kernelspec": {
      "name": "python3",
      "display_name": "Python 3"
    },
    "language_info": {
      "name": "python"
    },
    "accelerator": "GPU"
  },
  "cells": [
    {
      "cell_type": "code",
      "execution_count": null,
      "metadata": {
        "id": "pl_pmkVPSMce"
      },
      "outputs": [],
      "source": [
        "import torch\n",
        "import torch.nn as nn\n",
        "import torch.optim as optim\n",
        "import torchvision\n",
        "import torchvision.transforms as transforms\n",
        "from torch.utils.data import DataLoader"
      ]
    },
    {
      "cell_type": "code",
      "source": [
        "device=torch.device('cuda' if torch.cuda.is_available() else 'cpu')\n",
        "device"
      ],
      "metadata": {
        "colab": {
          "base_uri": "https://localhost:8080/"
        },
        "id": "Fcol9QJ2CbS1",
        "outputId": "84afa0bc-c744-4f08-e5c7-3498488193ed"
      },
      "execution_count": null,
      "outputs": [
        {
          "output_type": "execute_result",
          "data": {
            "text/plain": [
              "device(type='cuda')"
            ]
          },
          "metadata": {},
          "execution_count": 8
        }
      ]
    },
    {
      "cell_type": "code",
      "source": [
        "# Set random seed for reproducibility\n",
        "torch.manual_seed(42)\n",
        "\n",
        "# Define the generator network\n",
        "class Generator(nn.Module):\n",
        "    def __init__(self, input_dim, output_dim):\n",
        "        super(Generator, self).__init__()\n",
        "        self.fc = nn.Sequential(\n",
        "            nn.Linear(input_dim, 256),\n",
        "            nn.LeakyReLU(0.2),\n",
        "            nn.Linear(256, 512),\n",
        "            nn.LeakyReLU(0.2),\n",
        "            nn.Linear(512, 1024),\n",
        "            nn.LeakyReLU(0.2),\n",
        "            nn.Linear(1024, output_dim),\n",
        "            nn.Tanh()\n",
        "        )\n",
        "\n",
        "    def forward(self, x):\n",
        "        return self.fc(x)"
      ],
      "metadata": {
        "id": "aDhinmbnDNX4"
      },
      "execution_count": null,
      "outputs": []
    },
    {
      "cell_type": "code",
      "source": [
        "# Define the discriminator network\n",
        "class Discriminator(nn.Module):\n",
        "    def __init__(self, input_dim):\n",
        "        super(Discriminator, self).__init__()\n",
        "        self.fc = nn.Sequential(\n",
        "            nn.Linear(input_dim, 1024),\n",
        "            nn.LeakyReLU(0.2),\n",
        "            nn.Dropout(0.3),\n",
        "            nn.Linear(1024, 512),\n",
        "            nn.LeakyReLU(0.2),\n",
        "            nn.Dropout(0.3),\n",
        "            nn.Linear(512, 256),\n",
        "            nn.LeakyReLU(0.2),\n",
        "            nn.Dropout(0.3),\n",
        "            nn.Linear(256, 1),\n",
        "            nn.Sigmoid()\n",
        "        )\n",
        "\n",
        "    def forward(self, x):\n",
        "        return self.fc(x)"
      ],
      "metadata": {
        "id": "EL-gPwmsSYVE"
      },
      "execution_count": null,
      "outputs": []
    },
    {
      "cell_type": "code",
      "source": [
        "# Hyperparameters\n",
        "batch_size = 128\n",
        "input_dim = 100\n",
        "output_dim = 784\n",
        "num_epochs = 100\n",
        "learning_rate = 0.0002\n",
        "\n",
        "# Load MNIST dataset\n",
        "transform = transforms.Compose([\n",
        "    transforms.ToTensor(),\n",
        "    transforms.Normalize((0.5,), (0.5,))\n",
        "])\n",
        "\n",
        "train_dataset = torchvision.datasets.MNIST(root='data/', train=True, transform=transform, download=True)\n",
        "train_loader = DataLoader(train_dataset, batch_size=batch_size, shuffle=True)\n",
        "\n",
        "# Initialize generator and discriminator\n",
        "generator = Generator(input_dim, output_dim)\n",
        "discriminator = Discriminator(output_dim)\n",
        "\n",
        "# Define loss function and optimizers\n",
        "criterion = nn.BCELoss()\n",
        "gen_optimizer = optim.Adam(generator.parameters(), lr=learning_rate)\n",
        "disc_optimizer = optim.Adam(discriminator.parameters(), lr=learning_rate)\n",
        "\n",
        "# Training loop\n",
        "total_step = len(train_loader)\n",
        "\n",
        "for epoch in range(num_epochs):\n",
        "    for i, (images, _) in enumerate(train_loader):\n",
        "        batch_size = images.size(0)\n",
        "\n",
        "        # Flatten the images\n",
        "        images = images.view(batch_size, -1)\n",
        "\n",
        "        # Create labels for real and fake images\n",
        "        real_labels = torch.ones(batch_size, 1)\n",
        "        fake_labels = torch.zeros(batch_size, 1)\n",
        "\n",
        "        # Train the discriminator\n",
        "        discriminator.zero_grad()\n",
        "        outputs = discriminator(images)\n",
        "        real_loss = criterion(outputs, real_labels)\n",
        "        real_score = outputs\n",
        "\n",
        "        z = torch.randn(batch_size, input_dim)\n",
        "        fake_images = generator(z)\n",
        "        outputs = discriminator(fake_images.detach())\n",
        "        fake_loss = criterion(outputs, fake_labels)\n",
        "        fake_score = outputs\n",
        "\n",
        "        disc_loss = real_loss + fake_loss\n",
        "        disc_loss.backward()\n",
        "        disc_optimizer.step()\n",
        "\n",
        "        # Train the generator\n",
        "        generator.zero_grad()\n",
        "        z = torch.randn(batch_size, input_dim)\n",
        "        fake_images = generator(z)\n",
        "        outputs = discriminator(fake_images)\n",
        "        gen_loss = criterion(outputs, real_labels)\n",
        "\n",
        "        gen_loss.backward()\n",
        "        gen_optimizer.step()\n",
        "\n",
        "        # Print training progress\n",
        "        if (i+1) % 200 == 0:\n",
        "            print(f\"Epoch [{epoch+1}/{num_epochs}], Step [{i+1}/{total_step}], d_loss: {disc_loss.item():.4f}, g_loss: {gen_loss.item():.4f}, D(x): {real_score.mean().item():.2f}, D(G(z)): {fake_score.mean().item():.2f}\")\n"
      ],
      "metadata": {
        "colab": {
          "base_uri": "https://localhost:8080/"
        },
        "id": "a2XGPSrbS-iG",
        "outputId": "b6fff83c-13ea-4e84-ecab-693101151348"
      },
      "execution_count": null,
      "outputs": [
        {
          "output_type": "stream",
          "name": "stdout",
          "text": [
            "Downloading http://yann.lecun.com/exdb/mnist/train-images-idx3-ubyte.gz\n",
            "Downloading http://yann.lecun.com/exdb/mnist/train-images-idx3-ubyte.gz to data/MNIST/raw/train-images-idx3-ubyte.gz\n"
          ]
        },
        {
          "output_type": "stream",
          "name": "stderr",
          "text": [
            "100%|██████████| 9912422/9912422 [00:00<00:00, 112660618.22it/s]\n"
          ]
        },
        {
          "output_type": "stream",
          "name": "stdout",
          "text": [
            "Extracting data/MNIST/raw/train-images-idx3-ubyte.gz to data/MNIST/raw\n",
            "\n",
            "Downloading http://yann.lecun.com/exdb/mnist/train-labels-idx1-ubyte.gz\n",
            "Downloading http://yann.lecun.com/exdb/mnist/train-labels-idx1-ubyte.gz to data/MNIST/raw/train-labels-idx1-ubyte.gz\n"
          ]
        },
        {
          "output_type": "stream",
          "name": "stderr",
          "text": [
            "100%|██████████| 28881/28881 [00:00<00:00, 12326823.43it/s]\n"
          ]
        },
        {
          "output_type": "stream",
          "name": "stdout",
          "text": [
            "Extracting data/MNIST/raw/train-labels-idx1-ubyte.gz to data/MNIST/raw\n",
            "\n",
            "Downloading http://yann.lecun.com/exdb/mnist/t10k-images-idx3-ubyte.gz\n",
            "Downloading http://yann.lecun.com/exdb/mnist/t10k-images-idx3-ubyte.gz to data/MNIST/raw/t10k-images-idx3-ubyte.gz\n"
          ]
        },
        {
          "output_type": "stream",
          "name": "stderr",
          "text": [
            "100%|██████████| 1648877/1648877 [00:00<00:00, 25510763.29it/s]\n"
          ]
        },
        {
          "output_type": "stream",
          "name": "stdout",
          "text": [
            "Extracting data/MNIST/raw/t10k-images-idx3-ubyte.gz to data/MNIST/raw\n",
            "\n",
            "Downloading http://yann.lecun.com/exdb/mnist/t10k-labels-idx1-ubyte.gz\n",
            "Downloading http://yann.lecun.com/exdb/mnist/t10k-labels-idx1-ubyte.gz to data/MNIST/raw/t10k-labels-idx1-ubyte.gz\n"
          ]
        },
        {
          "output_type": "stream",
          "name": "stderr",
          "text": [
            "100%|██████████| 4542/4542 [00:00<00:00, 17820887.53it/s]\n"
          ]
        },
        {
          "output_type": "stream",
          "name": "stdout",
          "text": [
            "Extracting data/MNIST/raw/t10k-labels-idx1-ubyte.gz to data/MNIST/raw\n",
            "\n",
            "Epoch [1/100], Step [200/469], d_loss: 0.2171, g_loss: 4.4883, D(x): 0.94, D(G(z)): 0.13\n",
            "Epoch [1/100], Step [400/469], d_loss: 1.2546, g_loss: 0.5103, D(x): 0.93, D(G(z)): 0.68\n",
            "Epoch [2/100], Step [200/469], d_loss: 0.3712, g_loss: 1.9822, D(x): 0.86, D(G(z)): 0.19\n",
            "Epoch [2/100], Step [400/469], d_loss: 1.0824, g_loss: 1.0854, D(x): 0.66, D(G(z)): 0.45\n",
            "Epoch [3/100], Step [200/469], d_loss: 0.3570, g_loss: 2.7302, D(x): 0.84, D(G(z)): 0.14\n",
            "Epoch [3/100], Step [400/469], d_loss: 0.5669, g_loss: 2.8812, D(x): 0.81, D(G(z)): 0.22\n",
            "Epoch [4/100], Step [200/469], d_loss: 1.4973, g_loss: 1.4512, D(x): 0.56, D(G(z)): 0.40\n",
            "Epoch [4/100], Step [400/469], d_loss: 0.6208, g_loss: 1.6831, D(x): 0.87, D(G(z)): 0.32\n",
            "Epoch [5/100], Step [200/469], d_loss: 0.8895, g_loss: 1.4811, D(x): 0.78, D(G(z)): 0.33\n",
            "Epoch [5/100], Step [400/469], d_loss: 0.5546, g_loss: 1.9755, D(x): 0.84, D(G(z)): 0.24\n",
            "Epoch [6/100], Step [200/469], d_loss: 0.3421, g_loss: 3.0852, D(x): 0.88, D(G(z)): 0.08\n",
            "Epoch [6/100], Step [400/469], d_loss: 0.3052, g_loss: 2.7865, D(x): 0.92, D(G(z)): 0.12\n",
            "Epoch [7/100], Step [200/469], d_loss: 0.4060, g_loss: 3.2662, D(x): 0.89, D(G(z)): 0.12\n",
            "Epoch [7/100], Step [400/469], d_loss: 0.3274, g_loss: 3.4618, D(x): 0.90, D(G(z)): 0.12\n",
            "Epoch [8/100], Step [200/469], d_loss: 0.3872, g_loss: 2.5883, D(x): 0.88, D(G(z)): 0.14\n",
            "Epoch [8/100], Step [400/469], d_loss: 0.7282, g_loss: 2.5753, D(x): 0.74, D(G(z)): 0.16\n",
            "Epoch [9/100], Step [200/469], d_loss: 0.6352, g_loss: 2.6419, D(x): 0.79, D(G(z)): 0.18\n",
            "Epoch [9/100], Step [400/469], d_loss: 0.5561, g_loss: 2.4634, D(x): 0.82, D(G(z)): 0.16\n",
            "Epoch [10/100], Step [200/469], d_loss: 0.3528, g_loss: 2.6496, D(x): 0.89, D(G(z)): 0.12\n",
            "Epoch [10/100], Step [400/469], d_loss: 0.5825, g_loss: 2.4659, D(x): 0.81, D(G(z)): 0.18\n",
            "Epoch [11/100], Step [200/469], d_loss: 0.7512, g_loss: 2.4890, D(x): 0.79, D(G(z)): 0.22\n",
            "Epoch [11/100], Step [400/469], d_loss: 0.5016, g_loss: 2.3720, D(x): 0.87, D(G(z)): 0.20\n",
            "Epoch [12/100], Step [200/469], d_loss: 0.7450, g_loss: 2.5506, D(x): 0.74, D(G(z)): 0.15\n",
            "Epoch [12/100], Step [400/469], d_loss: 0.4997, g_loss: 3.0564, D(x): 0.84, D(G(z)): 0.15\n",
            "Epoch [13/100], Step [200/469], d_loss: 0.4180, g_loss: 2.7354, D(x): 0.89, D(G(z)): 0.17\n",
            "Epoch [13/100], Step [400/469], d_loss: 0.4810, g_loss: 2.3237, D(x): 0.86, D(G(z)): 0.20\n",
            "Epoch [14/100], Step [200/469], d_loss: 0.5565, g_loss: 3.0137, D(x): 0.79, D(G(z)): 0.14\n",
            "Epoch [14/100], Step [400/469], d_loss: 0.8590, g_loss: 2.2645, D(x): 0.73, D(G(z)): 0.23\n",
            "Epoch [15/100], Step [200/469], d_loss: 0.6287, g_loss: 2.2549, D(x): 0.76, D(G(z)): 0.15\n",
            "Epoch [15/100], Step [400/469], d_loss: 0.4582, g_loss: 3.0412, D(x): 0.87, D(G(z)): 0.18\n",
            "Epoch [16/100], Step [200/469], d_loss: 0.4795, g_loss: 2.7059, D(x): 0.88, D(G(z)): 0.21\n",
            "Epoch [16/100], Step [400/469], d_loss: 0.8148, g_loss: 2.3115, D(x): 0.73, D(G(z)): 0.20\n",
            "Epoch [17/100], Step [200/469], d_loss: 0.7915, g_loss: 1.9367, D(x): 0.74, D(G(z)): 0.24\n",
            "Epoch [17/100], Step [400/469], d_loss: 0.5436, g_loss: 2.3452, D(x): 0.85, D(G(z)): 0.20\n",
            "Epoch [18/100], Step [200/469], d_loss: 0.6839, g_loss: 2.3677, D(x): 0.78, D(G(z)): 0.20\n",
            "Epoch [18/100], Step [400/469], d_loss: 0.7170, g_loss: 2.2120, D(x): 0.80, D(G(z)): 0.26\n",
            "Epoch [19/100], Step [200/469], d_loss: 0.6779, g_loss: 2.1274, D(x): 0.83, D(G(z)): 0.26\n",
            "Epoch [19/100], Step [400/469], d_loss: 0.7593, g_loss: 2.1516, D(x): 0.78, D(G(z)): 0.25\n",
            "Epoch [20/100], Step [200/469], d_loss: 0.5810, g_loss: 2.2484, D(x): 0.85, D(G(z)): 0.25\n",
            "Epoch [20/100], Step [400/469], d_loss: 0.7322, g_loss: 2.0613, D(x): 0.77, D(G(z)): 0.24\n",
            "Epoch [21/100], Step [200/469], d_loss: 0.7835, g_loss: 2.2780, D(x): 0.79, D(G(z)): 0.29\n",
            "Epoch [21/100], Step [400/469], d_loss: 0.9013, g_loss: 1.7133, D(x): 0.73, D(G(z)): 0.28\n",
            "Epoch [22/100], Step [200/469], d_loss: 0.7650, g_loss: 1.7776, D(x): 0.78, D(G(z)): 0.28\n",
            "Epoch [22/100], Step [400/469], d_loss: 0.8029, g_loss: 1.8957, D(x): 0.75, D(G(z)): 0.25\n",
            "Epoch [23/100], Step [200/469], d_loss: 0.7622, g_loss: 1.8880, D(x): 0.77, D(G(z)): 0.30\n",
            "Epoch [23/100], Step [400/469], d_loss: 0.7829, g_loss: 2.0106, D(x): 0.72, D(G(z)): 0.23\n",
            "Epoch [24/100], Step [200/469], d_loss: 0.8414, g_loss: 2.0371, D(x): 0.67, D(G(z)): 0.22\n",
            "Epoch [24/100], Step [400/469], d_loss: 0.8928, g_loss: 1.9785, D(x): 0.71, D(G(z)): 0.28\n",
            "Epoch [25/100], Step [200/469], d_loss: 0.7530, g_loss: 1.6475, D(x): 0.79, D(G(z)): 0.30\n",
            "Epoch [25/100], Step [400/469], d_loss: 0.7262, g_loss: 1.6307, D(x): 0.79, D(G(z)): 0.29\n",
            "Epoch [26/100], Step [200/469], d_loss: 1.0865, g_loss: 1.4762, D(x): 0.67, D(G(z)): 0.33\n",
            "Epoch [26/100], Step [400/469], d_loss: 0.9308, g_loss: 1.5955, D(x): 0.78, D(G(z)): 0.36\n",
            "Epoch [27/100], Step [200/469], d_loss: 0.9895, g_loss: 1.2308, D(x): 0.70, D(G(z)): 0.36\n",
            "Epoch [27/100], Step [400/469], d_loss: 0.9150, g_loss: 1.4681, D(x): 0.80, D(G(z)): 0.37\n",
            "Epoch [28/100], Step [200/469], d_loss: 0.7882, g_loss: 1.7682, D(x): 0.75, D(G(z)): 0.27\n",
            "Epoch [28/100], Step [400/469], d_loss: 0.9000, g_loss: 2.0547, D(x): 0.64, D(G(z)): 0.21\n",
            "Epoch [29/100], Step [200/469], d_loss: 0.7911, g_loss: 2.1910, D(x): 0.67, D(G(z)): 0.18\n",
            "Epoch [29/100], Step [400/469], d_loss: 0.8991, g_loss: 1.6910, D(x): 0.74, D(G(z)): 0.33\n",
            "Epoch [30/100], Step [200/469], d_loss: 0.8031, g_loss: 1.6551, D(x): 0.73, D(G(z)): 0.29\n",
            "Epoch [30/100], Step [400/469], d_loss: 0.8023, g_loss: 1.9972, D(x): 0.74, D(G(z)): 0.26\n",
            "Epoch [31/100], Step [200/469], d_loss: 0.8908, g_loss: 1.5450, D(x): 0.70, D(G(z)): 0.30\n",
            "Epoch [31/100], Step [400/469], d_loss: 0.8458, g_loss: 1.8300, D(x): 0.71, D(G(z)): 0.28\n",
            "Epoch [32/100], Step [200/469], d_loss: 0.9555, g_loss: 1.1811, D(x): 0.69, D(G(z)): 0.36\n",
            "Epoch [32/100], Step [400/469], d_loss: 0.8907, g_loss: 1.5990, D(x): 0.69, D(G(z)): 0.29\n",
            "Epoch [33/100], Step [200/469], d_loss: 0.7970, g_loss: 2.0536, D(x): 0.71, D(G(z)): 0.25\n",
            "Epoch [33/100], Step [400/469], d_loss: 1.0010, g_loss: 1.2792, D(x): 0.73, D(G(z)): 0.39\n",
            "Epoch [34/100], Step [200/469], d_loss: 0.9599, g_loss: 2.0686, D(x): 0.72, D(G(z)): 0.31\n",
            "Epoch [34/100], Step [400/469], d_loss: 1.0011, g_loss: 1.2461, D(x): 0.67, D(G(z)): 0.33\n",
            "Epoch [35/100], Step [200/469], d_loss: 0.7828, g_loss: 1.5495, D(x): 0.73, D(G(z)): 0.27\n",
            "Epoch [35/100], Step [400/469], d_loss: 1.0860, g_loss: 1.6526, D(x): 0.79, D(G(z)): 0.44\n",
            "Epoch [36/100], Step [200/469], d_loss: 0.8725, g_loss: 1.6110, D(x): 0.74, D(G(z)): 0.33\n",
            "Epoch [36/100], Step [400/469], d_loss: 1.2293, g_loss: 1.0392, D(x): 0.65, D(G(z)): 0.38\n",
            "Epoch [37/100], Step [200/469], d_loss: 0.7923, g_loss: 1.3869, D(x): 0.74, D(G(z)): 0.29\n",
            "Epoch [37/100], Step [400/469], d_loss: 0.9749, g_loss: 1.6176, D(x): 0.73, D(G(z)): 0.37\n",
            "Epoch [38/100], Step [200/469], d_loss: 0.9522, g_loss: 1.7286, D(x): 0.68, D(G(z)): 0.31\n",
            "Epoch [38/100], Step [400/469], d_loss: 1.0846, g_loss: 1.2470, D(x): 0.62, D(G(z)): 0.33\n",
            "Epoch [39/100], Step [200/469], d_loss: 1.0209, g_loss: 1.3557, D(x): 0.66, D(G(z)): 0.33\n",
            "Epoch [39/100], Step [400/469], d_loss: 0.8238, g_loss: 1.4508, D(x): 0.76, D(G(z)): 0.33\n",
            "Epoch [40/100], Step [200/469], d_loss: 0.9546, g_loss: 1.4336, D(x): 0.69, D(G(z)): 0.35\n",
            "Epoch [40/100], Step [400/469], d_loss: 0.9918, g_loss: 1.4457, D(x): 0.65, D(G(z)): 0.32\n",
            "Epoch [41/100], Step [200/469], d_loss: 1.0938, g_loss: 1.4203, D(x): 0.57, D(G(z)): 0.32\n",
            "Epoch [41/100], Step [400/469], d_loss: 0.9393, g_loss: 1.1436, D(x): 0.72, D(G(z)): 0.37\n",
            "Epoch [42/100], Step [200/469], d_loss: 1.1546, g_loss: 1.1365, D(x): 0.61, D(G(z)): 0.38\n",
            "Epoch [42/100], Step [400/469], d_loss: 0.9576, g_loss: 1.2387, D(x): 0.65, D(G(z)): 0.31\n",
            "Epoch [43/100], Step [200/469], d_loss: 0.9514, g_loss: 1.3605, D(x): 0.69, D(G(z)): 0.35\n",
            "Epoch [43/100], Step [400/469], d_loss: 0.8977, g_loss: 1.5925, D(x): 0.63, D(G(z)): 0.27\n",
            "Epoch [44/100], Step [200/469], d_loss: 1.1005, g_loss: 1.2420, D(x): 0.66, D(G(z)): 0.39\n",
            "Epoch [44/100], Step [400/469], d_loss: 0.9297, g_loss: 1.4075, D(x): 0.67, D(G(z)): 0.33\n",
            "Epoch [45/100], Step [200/469], d_loss: 1.1385, g_loss: 1.2592, D(x): 0.66, D(G(z)): 0.41\n",
            "Epoch [45/100], Step [400/469], d_loss: 1.0020, g_loss: 1.0562, D(x): 0.65, D(G(z)): 0.35\n",
            "Epoch [46/100], Step [200/469], d_loss: 1.0970, g_loss: 0.9351, D(x): 0.66, D(G(z)): 0.43\n",
            "Epoch [46/100], Step [400/469], d_loss: 1.0899, g_loss: 1.0326, D(x): 0.68, D(G(z)): 0.41\n",
            "Epoch [47/100], Step [200/469], d_loss: 1.1090, g_loss: 1.4833, D(x): 0.60, D(G(z)): 0.32\n",
            "Epoch [47/100], Step [400/469], d_loss: 1.1338, g_loss: 1.2678, D(x): 0.57, D(G(z)): 0.32\n",
            "Epoch [48/100], Step [200/469], d_loss: 1.1564, g_loss: 1.0948, D(x): 0.58, D(G(z)): 0.35\n",
            "Epoch [48/100], Step [400/469], d_loss: 1.0239, g_loss: 1.3878, D(x): 0.66, D(G(z)): 0.35\n",
            "Epoch [49/100], Step [200/469], d_loss: 1.1642, g_loss: 1.0030, D(x): 0.60, D(G(z)): 0.38\n",
            "Epoch [49/100], Step [400/469], d_loss: 0.9847, g_loss: 1.2025, D(x): 0.65, D(G(z)): 0.34\n",
            "Epoch [50/100], Step [200/469], d_loss: 1.1119, g_loss: 1.2850, D(x): 0.58, D(G(z)): 0.33\n",
            "Epoch [50/100], Step [400/469], d_loss: 1.0846, g_loss: 1.2429, D(x): 0.66, D(G(z)): 0.39\n",
            "Epoch [51/100], Step [200/469], d_loss: 1.0759, g_loss: 1.6440, D(x): 0.71, D(G(z)): 0.40\n",
            "Epoch [51/100], Step [400/469], d_loss: 1.1317, g_loss: 1.0551, D(x): 0.60, D(G(z)): 0.37\n",
            "Epoch [52/100], Step [200/469], d_loss: 1.0553, g_loss: 1.3077, D(x): 0.62, D(G(z)): 0.32\n",
            "Epoch [52/100], Step [400/469], d_loss: 1.1796, g_loss: 1.2464, D(x): 0.59, D(G(z)): 0.37\n",
            "Epoch [53/100], Step [200/469], d_loss: 1.1403, g_loss: 1.2153, D(x): 0.58, D(G(z)): 0.36\n",
            "Epoch [53/100], Step [400/469], d_loss: 1.1757, g_loss: 1.0757, D(x): 0.58, D(G(z)): 0.37\n",
            "Epoch [54/100], Step [200/469], d_loss: 1.1354, g_loss: 1.0589, D(x): 0.61, D(G(z)): 0.38\n",
            "Epoch [54/100], Step [400/469], d_loss: 1.2346, g_loss: 1.1159, D(x): 0.63, D(G(z)): 0.44\n",
            "Epoch [55/100], Step [200/469], d_loss: 1.1026, g_loss: 1.1768, D(x): 0.64, D(G(z)): 0.35\n",
            "Epoch [55/100], Step [400/469], d_loss: 1.0470, g_loss: 1.2265, D(x): 0.66, D(G(z)): 0.37\n",
            "Epoch [56/100], Step [200/469], d_loss: 1.0200, g_loss: 1.1455, D(x): 0.63, D(G(z)): 0.35\n",
            "Epoch [56/100], Step [400/469], d_loss: 1.1617, g_loss: 1.1374, D(x): 0.63, D(G(z)): 0.42\n",
            "Epoch [57/100], Step [200/469], d_loss: 1.1494, g_loss: 1.1840, D(x): 0.57, D(G(z)): 0.30\n",
            "Epoch [57/100], Step [400/469], d_loss: 1.1133, g_loss: 1.3031, D(x): 0.68, D(G(z)): 0.40\n",
            "Epoch [58/100], Step [200/469], d_loss: 1.1427, g_loss: 1.3525, D(x): 0.61, D(G(z)): 0.38\n",
            "Epoch [58/100], Step [400/469], d_loss: 1.1505, g_loss: 0.8787, D(x): 0.61, D(G(z)): 0.41\n",
            "Epoch [59/100], Step [200/469], d_loss: 1.0289, g_loss: 1.3809, D(x): 0.65, D(G(z)): 0.33\n",
            "Epoch [59/100], Step [400/469], d_loss: 1.3022, g_loss: 1.2394, D(x): 0.62, D(G(z)): 0.42\n",
            "Epoch [60/100], Step [200/469], d_loss: 1.3179, g_loss: 0.9077, D(x): 0.55, D(G(z)): 0.41\n",
            "Epoch [60/100], Step [400/469], d_loss: 1.0400, g_loss: 1.0557, D(x): 0.62, D(G(z)): 0.36\n",
            "Epoch [61/100], Step [200/469], d_loss: 1.1862, g_loss: 1.2828, D(x): 0.60, D(G(z)): 0.35\n",
            "Epoch [61/100], Step [400/469], d_loss: 1.1491, g_loss: 1.1736, D(x): 0.57, D(G(z)): 0.36\n",
            "Epoch [62/100], Step [200/469], d_loss: 1.1312, g_loss: 1.1062, D(x): 0.65, D(G(z)): 0.40\n",
            "Epoch [62/100], Step [400/469], d_loss: 1.1796, g_loss: 0.9743, D(x): 0.57, D(G(z)): 0.40\n",
            "Epoch [63/100], Step [200/469], d_loss: 1.1909, g_loss: 1.0632, D(x): 0.58, D(G(z)): 0.42\n",
            "Epoch [63/100], Step [400/469], d_loss: 1.1690, g_loss: 1.0667, D(x): 0.60, D(G(z)): 0.43\n",
            "Epoch [64/100], Step [200/469], d_loss: 1.1606, g_loss: 1.0602, D(x): 0.61, D(G(z)): 0.40\n",
            "Epoch [64/100], Step [400/469], d_loss: 1.1390, g_loss: 1.0920, D(x): 0.59, D(G(z)): 0.36\n",
            "Epoch [65/100], Step [200/469], d_loss: 1.2044, g_loss: 1.2515, D(x): 0.61, D(G(z)): 0.42\n",
            "Epoch [65/100], Step [400/469], d_loss: 1.3747, g_loss: 1.0350, D(x): 0.53, D(G(z)): 0.42\n",
            "Epoch [66/100], Step [200/469], d_loss: 1.0657, g_loss: 1.0471, D(x): 0.63, D(G(z)): 0.38\n",
            "Epoch [66/100], Step [400/469], d_loss: 1.2231, g_loss: 1.1398, D(x): 0.55, D(G(z)): 0.38\n",
            "Epoch [67/100], Step [200/469], d_loss: 1.1341, g_loss: 0.9403, D(x): 0.62, D(G(z)): 0.42\n",
            "Epoch [67/100], Step [400/469], d_loss: 1.2424, g_loss: 1.0512, D(x): 0.56, D(G(z)): 0.40\n",
            "Epoch [68/100], Step [200/469], d_loss: 1.1256, g_loss: 1.2738, D(x): 0.60, D(G(z)): 0.38\n",
            "Epoch [68/100], Step [400/469], d_loss: 1.1303, g_loss: 1.2520, D(x): 0.54, D(G(z)): 0.33\n",
            "Epoch [69/100], Step [200/469], d_loss: 1.1764, g_loss: 1.0909, D(x): 0.58, D(G(z)): 0.41\n",
            "Epoch [69/100], Step [400/469], d_loss: 1.0465, g_loss: 1.1774, D(x): 0.63, D(G(z)): 0.38\n",
            "Epoch [70/100], Step [200/469], d_loss: 1.2282, g_loss: 1.0440, D(x): 0.56, D(G(z)): 0.40\n",
            "Epoch [70/100], Step [400/469], d_loss: 1.0728, g_loss: 1.0350, D(x): 0.64, D(G(z)): 0.40\n",
            "Epoch [71/100], Step [200/469], d_loss: 1.2929, g_loss: 0.9264, D(x): 0.60, D(G(z)): 0.47\n",
            "Epoch [71/100], Step [400/469], d_loss: 1.1226, g_loss: 0.9166, D(x): 0.59, D(G(z)): 0.39\n",
            "Epoch [72/100], Step [200/469], d_loss: 1.1834, g_loss: 1.1984, D(x): 0.59, D(G(z)): 0.39\n",
            "Epoch [72/100], Step [400/469], d_loss: 1.1495, g_loss: 1.1628, D(x): 0.57, D(G(z)): 0.39\n",
            "Epoch [73/100], Step [200/469], d_loss: 1.1231, g_loss: 1.1774, D(x): 0.62, D(G(z)): 0.39\n",
            "Epoch [73/100], Step [400/469], d_loss: 1.2322, g_loss: 1.2013, D(x): 0.54, D(G(z)): 0.38\n",
            "Epoch [74/100], Step [200/469], d_loss: 1.1597, g_loss: 1.1304, D(x): 0.59, D(G(z)): 0.40\n",
            "Epoch [74/100], Step [400/469], d_loss: 1.2340, g_loss: 1.0653, D(x): 0.63, D(G(z)): 0.44\n",
            "Epoch [75/100], Step [200/469], d_loss: 1.1277, g_loss: 1.2058, D(x): 0.58, D(G(z)): 0.38\n",
            "Epoch [75/100], Step [400/469], d_loss: 1.2600, g_loss: 0.9528, D(x): 0.54, D(G(z)): 0.41\n",
            "Epoch [76/100], Step [200/469], d_loss: 1.1640, g_loss: 1.0339, D(x): 0.57, D(G(z)): 0.38\n",
            "Epoch [76/100], Step [400/469], d_loss: 1.2142, g_loss: 0.9765, D(x): 0.57, D(G(z)): 0.43\n",
            "Epoch [77/100], Step [200/469], d_loss: 1.2135, g_loss: 1.1455, D(x): 0.60, D(G(z)): 0.41\n",
            "Epoch [77/100], Step [400/469], d_loss: 1.2663, g_loss: 1.1232, D(x): 0.61, D(G(z)): 0.42\n",
            "Epoch [78/100], Step [200/469], d_loss: 1.1760, g_loss: 1.1280, D(x): 0.61, D(G(z)): 0.40\n",
            "Epoch [78/100], Step [400/469], d_loss: 1.2132, g_loss: 0.9757, D(x): 0.57, D(G(z)): 0.42\n",
            "Epoch [79/100], Step [200/469], d_loss: 1.2609, g_loss: 1.1151, D(x): 0.58, D(G(z)): 0.42\n",
            "Epoch [79/100], Step [400/469], d_loss: 1.3205, g_loss: 0.9214, D(x): 0.55, D(G(z)): 0.45\n",
            "Epoch [80/100], Step [200/469], d_loss: 1.2050, g_loss: 1.1558, D(x): 0.57, D(G(z)): 0.39\n",
            "Epoch [80/100], Step [400/469], d_loss: 1.1783, g_loss: 1.0338, D(x): 0.59, D(G(z)): 0.41\n",
            "Epoch [81/100], Step [200/469], d_loss: 1.3884, g_loss: 0.8634, D(x): 0.58, D(G(z)): 0.50\n",
            "Epoch [81/100], Step [400/469], d_loss: 1.1570, g_loss: 0.9282, D(x): 0.57, D(G(z)): 0.41\n",
            "Epoch [82/100], Step [200/469], d_loss: 1.2083, g_loss: 1.0975, D(x): 0.60, D(G(z)): 0.43\n",
            "Epoch [82/100], Step [400/469], d_loss: 1.2301, g_loss: 0.8758, D(x): 0.60, D(G(z)): 0.46\n",
            "Epoch [83/100], Step [200/469], d_loss: 1.2043, g_loss: 0.9257, D(x): 0.57, D(G(z)): 0.41\n",
            "Epoch [83/100], Step [400/469], d_loss: 1.2786, g_loss: 1.0995, D(x): 0.55, D(G(z)): 0.39\n",
            "Epoch [84/100], Step [200/469], d_loss: 1.1965, g_loss: 1.2526, D(x): 0.60, D(G(z)): 0.39\n",
            "Epoch [84/100], Step [400/469], d_loss: 1.3804, g_loss: 0.8991, D(x): 0.58, D(G(z)): 0.48\n",
            "Epoch [85/100], Step [200/469], d_loss: 1.2394, g_loss: 0.8778, D(x): 0.55, D(G(z)): 0.41\n",
            "Epoch [85/100], Step [400/469], d_loss: 1.1189, g_loss: 0.8681, D(x): 0.61, D(G(z)): 0.42\n",
            "Epoch [86/100], Step [200/469], d_loss: 1.2717, g_loss: 1.2711, D(x): 0.62, D(G(z)): 0.47\n",
            "Epoch [86/100], Step [400/469], d_loss: 1.1857, g_loss: 1.0265, D(x): 0.58, D(G(z)): 0.39\n",
            "Epoch [87/100], Step [200/469], d_loss: 1.2636, g_loss: 0.9948, D(x): 0.53, D(G(z)): 0.40\n",
            "Epoch [87/100], Step [400/469], d_loss: 1.2064, g_loss: 1.0514, D(x): 0.58, D(G(z)): 0.42\n",
            "Epoch [88/100], Step [200/469], d_loss: 1.2545, g_loss: 0.9844, D(x): 0.54, D(G(z)): 0.40\n",
            "Epoch [88/100], Step [400/469], d_loss: 1.3298, g_loss: 0.9036, D(x): 0.49, D(G(z)): 0.41\n",
            "Epoch [89/100], Step [200/469], d_loss: 1.2395, g_loss: 0.9515, D(x): 0.59, D(G(z)): 0.44\n",
            "Epoch [89/100], Step [400/469], d_loss: 1.0469, g_loss: 1.2421, D(x): 0.65, D(G(z)): 0.39\n",
            "Epoch [90/100], Step [200/469], d_loss: 1.1103, g_loss: 0.9940, D(x): 0.58, D(G(z)): 0.38\n",
            "Epoch [90/100], Step [400/469], d_loss: 1.2311, g_loss: 0.9068, D(x): 0.60, D(G(z)): 0.44\n",
            "Epoch [91/100], Step [200/469], d_loss: 1.1365, g_loss: 0.9561, D(x): 0.61, D(G(z)): 0.42\n",
            "Epoch [91/100], Step [400/469], d_loss: 1.1255, g_loss: 1.2247, D(x): 0.62, D(G(z)): 0.39\n",
            "Epoch [92/100], Step [200/469], d_loss: 1.1776, g_loss: 0.9506, D(x): 0.63, D(G(z)): 0.45\n",
            "Epoch [92/100], Step [400/469], d_loss: 1.3053, g_loss: 0.8257, D(x): 0.53, D(G(z)): 0.41\n",
            "Epoch [93/100], Step [200/469], d_loss: 1.2433, g_loss: 1.0480, D(x): 0.55, D(G(z)): 0.40\n",
            "Epoch [93/100], Step [400/469], d_loss: 1.1126, g_loss: 1.0744, D(x): 0.61, D(G(z)): 0.42\n",
            "Epoch [94/100], Step [200/469], d_loss: 1.2611, g_loss: 0.9325, D(x): 0.58, D(G(z)): 0.45\n",
            "Epoch [94/100], Step [400/469], d_loss: 1.1744, g_loss: 0.9608, D(x): 0.62, D(G(z)): 0.45\n",
            "Epoch [95/100], Step [200/469], d_loss: 1.1451, g_loss: 1.3790, D(x): 0.58, D(G(z)): 0.37\n",
            "Epoch [95/100], Step [400/469], d_loss: 1.1599, g_loss: 0.9479, D(x): 0.61, D(G(z)): 0.41\n",
            "Epoch [96/100], Step [200/469], d_loss: 1.2462, g_loss: 0.8323, D(x): 0.56, D(G(z)): 0.44\n",
            "Epoch [96/100], Step [400/469], d_loss: 1.2934, g_loss: 0.9745, D(x): 0.55, D(G(z)): 0.42\n",
            "Epoch [97/100], Step [200/469], d_loss: 1.2435, g_loss: 0.9781, D(x): 0.56, D(G(z)): 0.41\n",
            "Epoch [97/100], Step [400/469], d_loss: 1.3211, g_loss: 1.0262, D(x): 0.55, D(G(z)): 0.39\n",
            "Epoch [98/100], Step [200/469], d_loss: 1.3009, g_loss: 0.8225, D(x): 0.55, D(G(z)): 0.46\n",
            "Epoch [98/100], Step [400/469], d_loss: 1.1282, g_loss: 0.9701, D(x): 0.59, D(G(z)): 0.40\n",
            "Epoch [99/100], Step [200/469], d_loss: 1.0927, g_loss: 1.1588, D(x): 0.58, D(G(z)): 0.36\n",
            "Epoch [99/100], Step [400/469], d_loss: 1.2990, g_loss: 0.9059, D(x): 0.54, D(G(z)): 0.45\n",
            "Epoch [100/100], Step [200/469], d_loss: 1.2528, g_loss: 0.9460, D(x): 0.56, D(G(z)): 0.44\n",
            "Epoch [100/100], Step [400/469], d_loss: 1.2130, g_loss: 0.8748, D(x): 0.57, D(G(z)): 0.44\n"
          ]
        }
      ]
    },
    {
      "cell_type": "code",
      "source": [
        "# Generate fake digits\n",
        "num_samples = 1\n",
        "\n",
        "for i in range(500):\n",
        "    z = torch.randn(1, input_dim)\n",
        "    generated_images = generator(z)\n",
        "    generated_images = generated_images.view(num_samples, 1, 28, 28)\n",
        "    torchvision.utils.save_image(generated_images, 'Fake_Digits/'+str(i) + '.png', nrow=1, normalize=True)\n",
        "    with open ('Fake_Digits/'+str(i) + '.txt','w') as fo:\n",
        "        fo.write('['+ ','.join([str(i) for i in z.tolist()[0]]) + ']')"
      ],
      "metadata": {
        "id": "-S1zsaj2twEA"
      },
      "execution_count": null,
      "outputs": []
    },
    {
      "cell_type": "code",
      "source": [
        "# Save Models using pickle\n",
        "torch.save(generator.state_dict(), 'Models/G_dict.pkl')\n",
        "torch.save(discriminator.state_dict(), 'Models/D_dict.pkl')\n",
        "torch.save(generator, 'Models/G.pkl')\n",
        "torch.save(discriminator, 'Models/D.pkl')"
      ],
      "metadata": {
        "id": "uYllpNvNwPQ-"
      },
      "execution_count": null,
      "outputs": []
    },
    {
      "cell_type": "code",
      "source": [
        "# Generate 10x10 (100) images\n",
        "num_samples = 100\n",
        "z = torch.randn(num_samples, input_dim)\n",
        "generated_images = generator(z)\n",
        "generated_images = generated_images.view(num_samples, 1, 28, 28)\n",
        "torchvision.utils.save_image(generated_images, 'generated_images.png', nrow=10, normalize=True)"
      ],
      "metadata": {
        "id": "ocGtaBp5tUUK"
      },
      "execution_count": null,
      "outputs": []
    }
  ]
}