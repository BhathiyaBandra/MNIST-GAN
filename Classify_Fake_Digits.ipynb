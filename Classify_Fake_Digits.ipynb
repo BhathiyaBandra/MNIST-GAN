{
 "cells": [
  {
   "cell_type": "code",
   "execution_count": 1,
   "metadata": {},
   "outputs": [],
   "source": [
    "import torch\n",
    "import torch.nn as nn\n",
    "import torchvision\n",
    "import torchvision.transforms as transforms\n",
    "import os\n",
    "from sklearn.metrics import accuracy_score, precision_score,recall_score, confusion_matrix"
   ]
  },
  {
   "cell_type": "code",
   "execution_count": 2,
   "metadata": {},
   "outputs": [],
   "source": [
    "# Read the image paths and folder names \n",
    "count = 0\n",
    "images = []\n",
    "\n",
    "for i in range(10):\n",
    "    init_path = os.path.join(\"Fake_Digits\", str(i))\n",
    "    dir_list = os.listdir(init_path)\n",
    "    img = []\n",
    "    for file_name in dir_list:\n",
    "        if file_name.endswith(\".png\"):\n",
    "            img.append(os.path.join(init_path,file_name))\n",
    "    count += len(img)\n",
    "    images.append(img)"
   ]
  },
  {
   "cell_type": "code",
   "execution_count": 3,
   "metadata": {},
   "outputs": [],
   "source": [
    "# Tensors to store fake data and fake targets\n",
    "fake_data = torch.zeros((count,28*28))\n",
    "fake_targets = torch.zeros((count))\n",
    "gray = transforms.Grayscale()"
   ]
  },
  {
   "cell_type": "code",
   "execution_count": 4,
   "metadata": {},
   "outputs": [],
   "source": [
    "# Read images and targets \n",
    "cnt=0\n",
    "for i in range(10):\n",
    "    for image_path in images[i]:\n",
    "        fake_data[cnt] = torch.flatten(gray(torchvision.io.read_image(path=image_path)))\n",
    "        fake_targets[cnt] = i\n",
    "        cnt+=1"
   ]
  },
  {
   "cell_type": "code",
   "execution_count": 5,
   "metadata": {},
   "outputs": [],
   "source": [
    "# MNIST Classifier models\n",
    "class MNISTclassifier(nn.Module):\n",
    "    def __init__(self, input_size: int):\n",
    "        super(MNISTclassifier, self).__init__()\n",
    "        self.input_layer = nn.Linear(input_size, 512, bias=True)\n",
    "        self.second_layer = nn.Linear(512, 64, bias=True)\n",
    "        self.third_layer = nn.Linear(64, 10, bias=True)\n",
    "        self.relu = nn.ReLU()\n",
    "        self.soft = nn.Softmax()\n",
    "    \n",
    "    def forward(self, x):\n",
    "        out = self.input_layer(x)\n",
    "        out = self.relu(out)\n",
    "        out = self.second_layer(out)\n",
    "        out = self.relu(out)\n",
    "        out = self.third_layer(out)\n",
    "        out = self.soft(out)\n",
    "        return out\n",
    "\n",
    "# Load previously save model\n",
    "Classifier = torch.load('C.pkl')"
   ]
  },
  {
   "cell_type": "code",
   "execution_count": 6,
   "metadata": {},
   "outputs": [],
   "source": [
    "# Predicting the results \n",
    "predict_out = torch.zeros((count))\n",
    "\n",
    "for i in range(count):\n",
    "    tmp_list = Classifier(torch.flatten(fake_data[i])).tolist()\n",
    "    predict_out[i] = tmp_list.index(max(tmp_list))"
   ]
  },
  {
   "cell_type": "code",
   "execution_count": 7,
   "metadata": {},
   "outputs": [
    {
     "name": "stdout",
     "output_type": "stream",
     "text": [
      "------------Accuracy----------------------\n",
      "prediction accuracy 0.7338709677419355\n",
      "macro precision 0.7399509803921569\n",
      "micro precision 0.7338709677419355\n",
      "macro recall 0.7312337662337662\n",
      "micro recall 0.7338709677419355\n"
     ]
    }
   ],
   "source": [
    "print('------------Accuracy----------------------')\n",
    "predict_y=torch.round(predict_out,decimals=0).int()\n",
    "\n",
    "print('prediction accuracy',accuracy_score(fake_targets.data,predict_y.data))\n",
    "\n",
    "print('macro precision',precision_score(fake_targets.data,predict_y.data,average='macro'))\n",
    "print('micro precision',precision_score(fake_targets.data,predict_y.data,average='micro'))\n",
    "\n",
    "print('macro recall',recall_score(fake_targets.data,predict_y.data,average='macro'))\n",
    "print('micro recall',recall_score(fake_targets.data,predict_y.data,average='micro'))"
   ]
  }
 ],
 "metadata": {
  "kernelspec": {
   "display_name": "Python 3",
   "language": "python",
   "name": "python3"
  },
  "language_info": {
   "codemirror_mode": {
    "name": "ipython",
    "version": 3
   },
   "file_extension": ".py",
   "mimetype": "text/x-python",
   "name": "python",
   "nbconvert_exporter": "python",
   "pygments_lexer": "ipython3",
   "version": "3.11.2"
  },
  "orig_nbformat": 4
 },
 "nbformat": 4,
 "nbformat_minor": 2
}
